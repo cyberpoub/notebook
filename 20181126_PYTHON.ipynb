{
 "cells": [
  {
   "cell_type": "code",
   "execution_count": null,
   "metadata": {},
   "outputs": [],
   "source": [
    "import math\n",
    "rayon = 10\n",
    "volume = 4/3 * math.pi * rayon**3\n",
    "print (volume)"
   ]
  },
  {
   "cell_type": "code",
   "execution_count": null,
   "metadata": {},
   "outputs": [],
   "source": [
    "a = 10\n",
    "if a > 10 :\n",
    "    print(\"a est plus grand que 10\")\n",
    "else:\n",
    "    print(\"a est inférieur ou égal à 10\")"
   ]
  },
  {
   "cell_type": "code",
   "execution_count": null,
   "metadata": {},
   "outputs": [],
   "source": [
    "liste = range(5,16,2)\n",
    "print(list(liste))"
   ]
  },
  {
   "cell_type": "code",
   "execution_count": null,
   "metadata": {},
   "outputs": [],
   "source": [
    "phrase = input(\"saisir phrase : \")\n",
    "caractere = input(\"saisir caractere à compter : \")\n",
    "caractere = caractere.lower()\n",
    "phrase = phrase.lower()\n",
    "print (phrase.count(caractere))"
   ]
  },
  {
   "cell_type": "code",
   "execution_count": null,
   "metadata": {},
   "outputs": [],
   "source": [
    "liste = [\"Pierre\", \"Paul\", \"Marie\"]\n",
    "#print (liste[0])\n",
    "#print (liste[len(liste)-1])\n",
    "print (liste[-2:])"
   ]
  },
  {
   "cell_type": "code",
   "execution_count": null,
   "metadata": {},
   "outputs": [],
   "source": [
    "liste = list(range(1,11))\n",
    "#index de départ : index de fin : pas\n",
    "print (liste[::2])"
   ]
  },
  {
   "cell_type": "code",
   "execution_count": null,
   "metadata": {},
   "outputs": [],
   "source": [
    "list1 = [1,2,3]\n",
    "list2 = [4,5,6]\n",
    "list1.extend(list2)\n",
    "print(list1)"
   ]
  },
  {
   "cell_type": "code",
   "execution_count": null,
   "metadata": {},
   "outputs": [],
   "source": [
    "list1 = [1,2,3,4,5,6]\n",
    "list2 = [2,4,6]\n",
    "print(list(set(list1) & set(list2)))\n",
    "print(set(list1).intersection(set(list2)))"
   ]
  },
  {
   "cell_type": "code",
   "execution_count": null,
   "metadata": {},
   "outputs": [],
   "source": [
    "from operator import itemgetter\n",
    "data = [('abc', 121),('abc', 231),('abc', 148), ('abc',221)]\n",
    "print(sorted(data,key=itemgetter(1)))\n"
   ]
  },
  {
   "cell_type": "code",
   "execution_count": null,
   "metadata": {},
   "outputs": [],
   "source": [
    "data = [('abc', 121),('abc', 231),('abc', 148), ('abc',221)]\n",
    "print(sorted(data,key=itemgetter(1)))\n",
    "print(sorted(data,key=lambda x: x[1]))"
   ]
  },
  {
   "cell_type": "code",
   "execution_count": null,
   "metadata": {},
   "outputs": [],
   "source": [
    "employe = {\"01\":{\"identite\":{\"prenom\":\"Pierre\", \"nom\":\"Dupont\"}}}\n",
    "print(employe[\"01\"][\"identite\"][\"prenom\"])\n",
    "print(employe.get(\"01\", {}).get(\"identite\", {}).get(\"prenom\", {}))"
   ]
  },
  {
   "cell_type": "code",
   "execution_count": null,
   "metadata": {},
   "outputs": [],
   "source": [
    "employe = {\"Pierre\":2500, \"Marie\":5000, \"Julien\":1200}\n",
    "print(type(employe.values()))\n",
    "print(sum(employe.values()))\n",
    "somme = 0\n",
    "for valeur in employe.values():\n",
    "    somme = somme+valeur\n",
    "print(somme)"
   ]
  },
  {
   "cell_type": "code",
   "execution_count": null,
   "metadata": {},
   "outputs": [],
   "source": [
    "import os\n",
    "fichier = \"c:/Python36/pythhon.exe\"\n",
    "print(os.path.splitext(fichier)[1][1:]) \n",
    "\n",
    "test = \"!.te.st!.!!!a..\"\n",
    "print(test.strip(\"!.\"))"
   ]
  },
  {
   "cell_type": "code",
   "execution_count": null,
   "metadata": {},
   "outputs": [],
   "source": [
    "import time\n",
    "tmps1=time.time()\n",
    "_ = [i*2 for i in range(9999999)]\n",
    "tmps2=time.time()\n",
    "print(\"Temps d'execution = {0}\".format(tmps2-tmps1))"
   ]
  },
  {
   "cell_type": "code",
   "execution_count": null,
   "metadata": {},
   "outputs": [],
   "source": [
    "mot = \"Udemy\"\n",
    "print((''.join(reversed(mot))).capitalize())"
   ]
  },
  {
   "cell_type": "code",
   "execution_count": null,
   "metadata": {},
   "outputs": [],
   "source": [
    "import random\n",
    "mot = \"bonjour\"\n",
    "mot = list(mot)\n",
    "random.shuffle(mot)\n",
    "print(''.join(mot).capitalize())"
   ]
  },
  {
   "cell_type": "code",
   "execution_count": null,
   "metadata": {},
   "outputs": [],
   "source": [
    "nombre = 1234.5678\n",
    "print(\"arrondi : {0:.3f}\".format(nombre))"
   ]
  },
  {
   "cell_type": "code",
   "execution_count": null,
   "metadata": {},
   "outputs": [],
   "source": [
    "a = 20\n",
    "print(\"vous etes majeur\") if(a>=18) else print(\"vous etes mineur\")"
   ]
  },
  {
   "cell_type": "code",
   "execution_count": null,
   "metadata": {},
   "outputs": [],
   "source": [
    "test = False\n",
    "while(test == False) :\n",
    "    age = input(\"saisir age positif : \")\n",
    "    try :\n",
    "        age = int(age)\n",
    "        if (age > 0):\n",
    "            test = True\n",
    "    except :\n",
    "        continue\n",
    "    \n",
    "if age <=2:\n",
    "    age *=10.5\n",
    "else:\n",
    "    age = 21 + (age-2)*4 \n",
    "print (\"age humain : {0}\".format(age))"
   ]
  },
  {
   "cell_type": "code",
   "execution_count": null,
   "metadata": {},
   "outputs": [],
   "source": [
    "a=4\n",
    "b=6\n",
    "c=2\n",
    "liste = []\n",
    "liste.append(a)\n",
    "liste.append(b)\n",
    "liste.append(c)\n",
    "for _ in range(len(liste)) :\n",
    "    print(min(liste))\n",
    "    liste.remove(min(liste))"
   ]
  },
  {
   "cell_type": "code",
   "execution_count": null,
   "metadata": {},
   "outputs": [],
   "source": [
    "mot = \"Python\"\n",
    "cpt = 0\n",
    "for i in mot:\n",
    "    print(cpt)\n",
    "    print(i)\n",
    "    cpt+=1        "
   ]
  },
  {
   "cell_type": "code",
   "execution_count": null,
   "metadata": {},
   "outputs": [],
   "source": [
    "mot = \"Python\"\n",
    "\n",
    "for idx, car in enumerate(mot):\n",
    "    print(idx)\n",
    "    print(car)"
   ]
  },
  {
   "cell_type": "code",
   "execution_count": null,
   "metadata": {},
   "outputs": [],
   "source": [
    "chiffre = input(\"saisir chiffre : \")\n",
    "for i in range(11):\n",
    "    print(\"{0}*{1}={2}\".format(i,chiffre,i*int(chiffre)))"
   ]
  },
  {
   "cell_type": "code",
   "execution_count": null,
   "metadata": {},
   "outputs": [],
   "source": [
    "liste = [\"Pierre\", \"Paul\", \"Marie\"]\n",
    "for idx, prenom in enumerate(liste):\n",
    "    print(idx)\n",
    "    print(prenom)\n"
   ]
  },
  {
   "cell_type": "code",
   "execution_count": null,
   "metadata": {},
   "outputs": [],
   "source": [
    "nombres_pairs=[]\n",
    "for i in range(50):\n",
    "    if i%2==0:\n",
    "      nombres_pairs.append(i)\n",
    "print (nombres_pairs)"
   ]
  },
  {
   "cell_type": "code",
   "execution_count": null,
   "metadata": {},
   "outputs": [],
   "source": [
    "nombres = range(50)\n",
    "print([i for i in nombres if i%2==0])"
   ]
  },
  {
   "cell_type": "code",
   "execution_count": null,
   "metadata": {},
   "outputs": [],
   "source": [
    "liste = [\"Pierre\", \"Marie\", \"Julie\", \"Adrien\", \"Julie\"]\n",
    "liste = [i.replace(\"Julie\", \"Julien\") for i in liste]\n",
    "print(liste)"
   ]
  },
  {
   "cell_type": "code",
   "execution_count": null,
   "metadata": {},
   "outputs": [],
   "source": [
    "reponse = \"o\"\n",
    "cpt = 0\n",
    "while(reponse == \"o\") :\n",
    "    reponse = input(\"Voulez vous continuer ? (o/n) : \")\n",
    "    cpt +=1\n",
    "print(cpt)"
   ]
  },
  {
   "cell_type": "code",
   "execution_count": null,
   "metadata": {},
   "outputs": [],
   "source": [
    "employes = {}\n",
    "cpt = 1\n",
    "liste = [10, 2329, 5, \"Pierre\", 203, \"Marie\", 867, \"Adrien\"]\n",
    "for i in liste:\n",
    "    if isinstance(i,str) and i.isalpha():\n",
    "        id = \"id-{:02}\".format(cpt) \n",
    "        cpt+=1\n",
    "        employes[id] = i\n",
    "print(employes)"
   ]
  },
  {
   "cell_type": "code",
   "execution_count": null,
   "metadata": {},
   "outputs": [],
   "source": [
    "import string\n",
    "alphabet = string.ascii_lowercase\n",
    "dico = {}\n",
    "cpt = 0\n",
    "for i in alphabet:\n",
    "    dico[cpt+1] = i\n",
    "    cpt +=1\n",
    "print(dico)"
   ]
  },
  {
   "cell_type": "code",
   "execution_count": null,
   "metadata": {},
   "outputs": [],
   "source": [
    "import string\n",
    "alphabet = string.ascii_lowercase\n",
    "print(dict(zip(alphabet,range(1,27))))"
   ]
  },
  {
   "cell_type": "code",
   "execution_count": null,
   "metadata": {},
   "outputs": [],
   "source": [
    "def longueur(mot) :\n",
    "    cpt = 0\n",
    "    for i in mot:\n",
    "        cpt +=1\n",
    "    return cpt\n",
    "\n",
    "print(longueur(input(\"saisir mot : \")))        "
   ]
  },
  {
   "cell_type": "code",
   "execution_count": null,
   "metadata": {},
   "outputs": [],
   "source": [
    "n = int(input(\"nombre : \"))\n",
    "cpt = 0\n",
    "for i in range(n*2):\n",
    "    if i < n:\n",
    "        cpt +=1\n",
    "    else:\n",
    "        cpt -=1\n",
    "    print(cpt*\"*\")    "
   ]
  },
  {
   "cell_type": "code",
   "execution_count": null,
   "metadata": {},
   "outputs": [],
   "source": [
    "n = int(input(\"nombre : \"))\n",
    "cpt = n-2\n",
    "for i in range(n-1):\n",
    "    print(cpt*\" \"+ (i+1)*\"* \")\n",
    "    cpt -=1    "
   ]
  },
  {
   "cell_type": "code",
   "execution_count": null,
   "metadata": {},
   "outputs": [],
   "source": [
    "#revoir pour aligner\n",
    "chaine = input(\"chaine : \")\n",
    "liste = list(chaine)\n",
    "\n",
    "for i in range(len(liste)+2):\n",
    "    if i ==0 or i == (len(liste)+1):\n",
    "        print(len(liste)*\"_\")\n",
    "    else :\n",
    "        print(\"|\" + int((len(liste)-2)/2)*\" \" + liste[i-1] + int((len(liste)-2)/2)*\" \" + \"|\")"
   ]
  },
  {
   "cell_type": "code",
   "execution_count": 22,
   "metadata": {},
   "outputs": [
    {
     "name": "stdout",
     "output_type": "stream",
     "text": [
      "nombre : 1234\n",
      "1,234\n"
     ]
    }
   ],
   "source": [
    "nombre = input(\"nombre : \")\n",
    "liste = list(nombre)\n",
    "listeCible = []\n",
    "\n",
    "for i in range(1,len(liste)+1):\n",
    "    listeCible.insert(0,liste[len(liste)-i])\n",
    "    if i%3 == 0 and len(liste)>3:\n",
    "        listeCible.insert(0,\",\")\n",
    "    \n",
    "print(\"\".join(listeCible))"
   ]
  },
  {
   "cell_type": "code",
   "execution_count": 34,
   "metadata": {},
   "outputs": [
    {
     "name": "stdout",
     "output_type": "stream",
     "text": [
      "age : 37\n",
      "mois : 12\n",
      "1980\n"
     ]
    }
   ],
   "source": [
    "from datetime import datetime\n",
    "age = input(\"age : \")\n",
    "mois = input(\"mois : \")\n",
    "ceJour = datetime.today()\n",
    "if int(mois) < ceJour.month:\n",
    "    print(ceJour.year -int(age))\n",
    "else:\n",
    "    print(ceJour.year -int(age) -1)"
   ]
  },
  {
   "cell_type": "code",
   "execution_count": 45,
   "metadata": {},
   "outputs": [
    {
     "name": "stdout",
     "output_type": "stream",
     "text": [
      "premier nombre : 4\n",
      "second nombre : 4\n",
      "4\n"
     ]
    }
   ],
   "source": [
    "nb1 = input(\"premier nombre : \")\n",
    "nb2 = input(\"second nombre : \")\n",
    "result = 0\n",
    "for i in range(min(int(nb1),int(nb2)), max(int(nb1),int(nb2))+1):\n",
    "    result += i\n",
    "print(result)"
   ]
  },
  {
   "cell_type": "code",
   "execution_count": 57,
   "metadata": {},
   "outputs": [
    {
     "name": "stdout",
     "output_type": "stream",
     "text": [
      "['Marie', 'Julien', 'Astrid']\n",
      "['Pierre', 'Zoé']\n"
     ]
    }
   ],
   "source": [
    "import string\n",
    "liste = [\"Pierre\", \"Marie\", \"Julien\", \"Astrid\", \"Zoé\"]\n",
    "listeDebut = []\n",
    "listeFin = []\n",
    "alphabet = string.ascii_uppercase\n",
    "listeAlphabet = list(alphabet)\n",
    "for i in liste:    \n",
    "    if (listeAlphabet.index(i[0])) < 13:\n",
    "        listeDebut.append(i)\n",
    "    else:\n",
    "        listeFin.append(i)\n",
    "print(listeDebut)\n",
    "print(listeFin)"
   ]
  },
  {
   "cell_type": "code",
   "execution_count": 60,
   "metadata": {},
   "outputs": [
    {
     "name": "stdout",
     "output_type": "stream",
     "text": [
      "['Marie', 'Julien', 'Astrid']\n",
      "['Pierre', 'Zoé']\n"
     ]
    }
   ],
   "source": [
    "import string\n",
    "liste = [\"Pierre\", \"Marie\", \"Julien\", \"Astrid\", \"Zoé\"]\n",
    "listeDebut = [x for x in liste if x[0].upper() < \"N\"]\n",
    "listeFin =  [x for x in liste if x[0].upper() >= \"N\"]\n",
    "print(listeDebut)\n",
    "print(listeFin)"
   ]
  },
  {
   "cell_type": "code",
   "execution_count": 71,
   "metadata": {},
   "outputs": [
    {
     "name": "stdout",
     "output_type": "stream",
     "text": [
      "/Users/Thibh/Desktop\n"
     ]
    }
   ],
   "source": [
    "import os\n",
    "dossier = \"/Users/Thibh/Desktop/Dossier_01/Tutoriel/Udemy\"\n",
    "\n",
    "def remonterDossier(chemin, nombre):\n",
    "    tmp = chemin\n",
    "    for i in range(nombre):\n",
    "        tmp = os.path.dirname(tmp)\n",
    "    return tmp\n",
    "\n",
    "print(remonterDossier(dossier,3))"
   ]
  },
  {
   "cell_type": "code",
   "execution_count": 78,
   "metadata": {},
   "outputs": [
    {
     "name": "stdout",
     "output_type": "stream",
     "text": [
      "\\Users\\Thibh\\Desktop\\Tutoriel\\Udemy\n"
     ]
    }
   ],
   "source": [
    "import os\n",
    "dossier = \"/Users/Thibh/Desktop/Dossier_01/../Tutoriel/Udemy\"\n",
    "\n",
    "liste = dossier.split(\"/\")\n",
    "while '..' in liste:\n",
    "    index = liste.index('..')\n",
    "    liste.pop(index)\n",
    "    liste.pop(index-1)\n",
    "    \n",
    "print(os.sep.join(liste))"
   ]
  }
 ],
 "metadata": {
  "kernelspec": {
   "display_name": "Python 3",
   "language": "python",
   "name": "python3"
  },
  "language_info": {
   "codemirror_mode": {
    "name": "ipython",
    "version": 3
   },
   "file_extension": ".py",
   "mimetype": "text/x-python",
   "name": "python",
   "nbconvert_exporter": "python",
   "pygments_lexer": "ipython3",
   "version": "3.6.5"
  }
 },
 "nbformat": 4,
 "nbformat_minor": 2
}
