{
 "cells": [
  {
   "cell_type": "code",
   "execution_count": 2,
   "metadata": {
    "collapsed": true
   },
   "outputs": [],
   "source": [
    "from pyspark.sql.functions import split,lit,rtrim,col,trim"
   ]
  },
  {
   "cell_type": "code",
   "execution_count": 18,
   "metadata": {
    "collapsed": true
   },
   "outputs": [],
   "source": [
    "mestables=spark.sql(\"show tables in tp2\").collect()"
   ]
  },
  {
   "cell_type": "code",
   "execution_count": 23,
   "metadata": {
    "collapsed": true
   },
   "outputs": [],
   "source": [
    "mestables_df=spark.sql(\"show tables in tp2\")"
   ]
  },
  {
   "cell_type": "code",
   "execution_count": 44,
   "metadata": {
    "collapsed": true
   },
   "outputs": [],
   "source": [
    "import pandas as pd\n",
    "mestables_pandas=mestables_df.toPandas()"
   ]
  },
  {
   "cell_type": "code",
   "execution_count": 48,
   "metadata": {},
   "outputs": [
    {
     "data": {
      "text/plain": [
       "0               143534_test\n",
       "1            arnette_exttab\n",
       "2             arnette_tabl2\n",
       "3             arnette_table\n",
       "4        bdy_external_table\n",
       "5               c78355_test\n",
       "6     l329160_table_externe\n",
       "7              l329160_test\n",
       "8              l370051_test\n",
       "9              l505096_test\n",
       "10    l514714_table_externe\n",
       "11             l514714_test\n",
       "12             l794548_test\n",
       "13          matable2_143534\n",
       "14           matable_143534\n",
       "15           matable_264354\n",
       "16           matable_c78355\n",
       "17          matable_l505096\n",
       "18             nicolas_test\n",
       "19               vedha_test\n",
       "Name: tableName, dtype: object"
      ]
     },
     "execution_count": 48,
     "metadata": {},
     "output_type": "execute_result"
    }
   ],
   "source": [
    "mestables_pandas.iloc[:,1]"
   ]
  },
  {
   "cell_type": "code",
   "execution_count": 49,
   "metadata": {},
   "outputs": [
    {
     "data": {
      "text/plain": [
       "pandas.core.series.Series"
      ]
     },
     "execution_count": 49,
     "metadata": {},
     "output_type": "execute_result"
    }
   ],
   "source": [
    "type(mestables_pandas.iloc[:,1])"
   ]
  },
  {
   "cell_type": "code",
   "execution_count": 19,
   "metadata": {},
   "outputs": [
    {
     "data": {
      "text/plain": [
       "list"
      ]
     },
     "execution_count": 19,
     "metadata": {},
     "output_type": "execute_result"
    }
   ],
   "source": [
    "type(mestables)"
   ]
  },
  {
   "cell_type": "code",
   "execution_count": null,
   "metadata": {
    "collapsed": true
   },
   "outputs": [],
   "source": [
    "file = open(\"/PF/TP/LOG/test_c78355.log\",'a')"
   ]
  },
  {
   "cell_type": "code",
   "execution_count": 28,
   "metadata": {},
   "outputs": [
    {
     "data": {
      "text/plain": [
       "'select count(*) from tp2.143534_test'"
      ]
     },
     "execution_count": 28,
     "metadata": {},
     "output_type": "execute_result"
    }
   ],
   "source": [
    "\"select count(*) from tp2.\"+mestables[0][1]"
   ]
  },
  {
   "cell_type": "code",
   "execution_count": 39,
   "metadata": {
    "collapsed": true
   },
   "outputs": [],
   "source": [
    "#countLignes=spark.sql(\"select count(*) from tp2.\"+mestables[0][1]).collect()[0][0]"
   ]
  },
  {
   "cell_type": "code",
   "execution_count": 40,
   "metadata": {
    "collapsed": true
   },
   "outputs": [],
   "source": [
    "countLignes=spark.table(\"tp2.\"+mestables[0][1]).count()"
   ]
  },
  {
   "cell_type": "code",
   "execution_count": 41,
   "metadata": {},
   "outputs": [
    {
     "data": {
      "text/plain": [
       "99"
      ]
     },
     "execution_count": 41,
     "metadata": {},
     "output_type": "execute_result"
    }
   ],
   "source": [
    "countLignes"
   ]
  },
  {
   "cell_type": "code",
   "execution_count": 43,
   "metadata": {},
   "outputs": [
    {
     "name": "stdout",
     "output_type": "stream",
     "text": [
      "143534_test\n",
      "arnette_exttab\n",
      "arnette_tabl2\n",
      "arnette_table\n",
      "bdy_external_table\n",
      "c78355_test\n",
      "l329160_table_externe\n",
      "l329160_test\n",
      "l370051_test\n",
      "l505096_test\n",
      "l514714_table_externe\n",
      "l514714_test\n",
      "l794548_test\n",
      "matable2_143534\n",
      "matable_143534\n",
      "matable_264354\n",
      "matable_c78355\n",
      "matable_l505096\n",
      "nicolas_test\n",
      "vedha_test\n"
     ]
    }
   ],
   "source": [
    "file = open(\"/PF/TP/LOG/test2_c78355.log\",'a')\n",
    "for i in range (len(mestables)):\n",
    "    print(mestables[i][1])\n",
    "    countLignes=spark.table(\"tp2.\"+mestables[i][1]).count()\n",
    "    file.write(mestables[i][1] +\" \"+str(countLignes) + \"\\n\")\n",
    "file.close()"
   ]
  },
  {
   "cell_type": "code",
   "execution_count": 15,
   "metadata": {},
   "outputs": [
    {
     "data": {
      "text/plain": [
       "7"
      ]
     },
     "execution_count": 15,
     "metadata": {},
     "output_type": "execute_result"
    }
   ],
   "source": [
    "file.write(\"sasslut\")"
   ]
  },
  {
   "cell_type": "code",
   "execution_count": 16,
   "metadata": {
    "collapsed": true
   },
   "outputs": [],
   "source": [
    "file.close()"
   ]
  }
 ],
 "metadata": {
  "kernelspec": {
   "display_name": "Spark 2",
   "language": "python",
   "name": "pyspark"
  },
  "language_info": {
   "codemirror_mode": {
    "name": "ipython",
    "version": 3
   },
   "file_extension": ".py",
   "mimetype": "text/x-python",
   "name": "python",
   "nbconvert_exporter": "python",
   "pygments_lexer": "ipython3",
   "version": "3.6.1"
  }
 },
 "nbformat": 4,
 "nbformat_minor": 2
}
