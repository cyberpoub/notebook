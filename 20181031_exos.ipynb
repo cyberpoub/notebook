{
 "cells": [
  {
   "cell_type": "code",
   "execution_count": 4,
   "metadata": {},
   "outputs": [
    {
     "name": "stdout",
     "output_type": "stream",
     "text": [
      "Pierre\n",
      "20\n",
      "True\n",
      "20135.384\n",
      "['Marie', 'Julien', 'Adrien']\n",
      "('Marc', 'Caroline')\n"
     ]
    }
   ],
   "source": [
    "prenom = 'Pierre'\n",
    "age = 20 \n",
    "majeur = True\n",
    "compte_en_banque = 20135.384 \n",
    "amis = ['Marie', 'Julien', 'Adrien']\n",
    "parents = ('Marc', 'Caroline')\n",
    "\n",
    "print (prenom)\n",
    "print (age)  \n",
    "print (majeur)\n",
    "print (compte_en_banque) \n",
    "print (amis)\n",
    "print (parents)"
   ]
  },
  {
   "cell_type": "code",
   "execution_count": 3,
   "metadata": {},
   "outputs": [
    {
     "name": "stdout",
     "output_type": "stream",
     "text": [
      "2 + 6 + 3\n"
     ]
    }
   ],
   "source": [
    "a = 2\n",
    "b = 6\n",
    "c = 3\n",
    "\n",
    "print (a, b, c, sep=' + ')"
   ]
  },
  {
   "cell_type": "code",
   "execution_count": 13,
   "metadata": {},
   "outputs": [
    {
     "name": "stdout",
     "output_type": "stream",
     "text": [
      "la variable contenant Pierre est une chaîne de caractères\n",
      "la variable contenant 0 n'est pas une chaîne de caractères\n"
     ]
    }
   ],
   "source": [
    "prenom = 'Pierre'\n",
    "if isinstance(prenom, str):\n",
    "    print('la variable contenant {0} est une chaîne de caractères'.format(prenom))\n",
    "else:\n",
    "    print('la variable contenant {0} n\\'est pas une chaîne de caractères'.format(prenom))    \n",
    "prenom = 0\n",
    "if isinstance(prenom, str):\n",
    "    print('la variable contenant {0} est une chaîne de caractères'.format(prenom))\n",
    "else:\n",
    "    print('la variable contenant {0} n\\'est pas une chaîne de caractères'.format(prenom))\n"
   ]
  },
  {
   "cell_type": "code",
   "execution_count": 15,
   "metadata": {},
   "outputs": [
    {
     "name": "stdout",
     "output_type": "stream",
     "text": [
      "Bonsoir tout le monde\n"
     ]
    }
   ],
   "source": [
    "phrase = \"Bonjour tout le monde\"\n",
    "nouvelle_phrase = phrase.replace(\"Bonjour\", \"Bonsoir\")\n",
    "print (nouvelle_phrase)"
   ]
  },
  {
   "cell_type": "code",
   "execution_count": 48,
   "metadata": {},
   "outputs": [
    {
     "name": "stdout",
     "output_type": "stream",
     "text": [
      "['Anne', 'Julien', 'Lucien', 'Marie', 'Pierre']\n",
      "Anne, Julien, Lucien, Marie, Pierre\n"
     ]
    }
   ],
   "source": [
    "chaine = 'Pierre, Julien, Anne, Marie, Lucien'\n",
    "ma_liste = chaine.split(\", \")\n",
    "ma_liste.sort()\n",
    "print (ma_liste)\n",
    "\n",
    "\n",
    "str1 = ', '.join(ma_liste)\n",
    "print (str1)"
   ]
  },
  {
   "cell_type": "code",
   "execution_count": 54,
   "metadata": {},
   "outputs": [
    {
     "name": "stdout",
     "output_type": "stream",
     "text": [
      "[2, 4, 6, 8, 10, 12, 14, 16, 18, 20, 22, 24, 26, 28, 30, 32, 34, 36, 38, 40, 42, 44, 46, 48, 50, 52, 54, 56, 58, 60, 62, 64, 66, 68, 70, 72, 74, 76, 78, 80, 82, 84, 86, 88, 90, 92, 94, 96, 98, 100]\n"
     ]
    }
   ],
   "source": [
    "print (list(range(2, 102, 2)))"
   ]
  },
  {
   "cell_type": "code",
   "execution_count": 68,
   "metadata": {},
   "outputs": [
    {
     "name": "stdout",
     "output_type": "stream",
     "text": [
      "5\n",
      "5\n",
      "1\n",
      "4\n",
      "2\n",
      "6\n",
      "somme : 23\n"
     ]
    }
   ],
   "source": [
    "import random as rd\n",
    "somme=0\n",
    "for _ in range(1, 7):\n",
    "    lance = rd.randint(1,6)\n",
    "    somme += lance\n",
    "    print (lance)\n",
    "print('somme : {0}'.format(somme))\n"
   ]
  },
  {
   "cell_type": "code",
   "execution_count": 79,
   "metadata": {},
   "outputs": [
    {
     "name": "stdout",
     "output_type": "stream",
     "text": [
      "28\n"
     ]
    }
   ],
   "source": [
    "num=1234567\n",
    "print(sum([int(x) for x in str(num)]))\n"
   ]
  },
  {
   "cell_type": "code",
   "execution_count": 87,
   "metadata": {},
   "outputs": [
    {
     "name": "stdout",
     "output_type": "stream",
     "text": [
      "[1, 2, 3, 4, 5, 6, 7, 8, 9, 10]\n"
     ]
    }
   ],
   "source": [
    "nombres = [1, 2, 2, 3, 4, 5, 5, 5, 6, 7, 7, 8, 9, 10]\n",
    "result = []\n",
    "for i in nombres:\n",
    "    if i not in result:\n",
    "        result.append(i)\n",
    "print(result)"
   ]
  },
  {
   "cell_type": "code",
   "execution_count": 99,
   "metadata": {},
   "outputs": [
    {
     "name": "stdout",
     "output_type": "stream",
     "text": [
      "1\n",
      "5\n"
     ]
    }
   ],
   "source": [
    "nombre = 5\n",
    "for i in range(1, nombre+1):\n",
    "    if nombre % i == 0:\n",
    "        print(i)"
   ]
  },
  {
   "cell_type": "code",
   "execution_count": 100,
   "metadata": {},
   "outputs": [
    {
     "name": "stdout",
     "output_type": "stream",
     "text": [
      "1\n",
      "5\n"
     ]
    }
   ],
   "source": [
    "nombre = 5\n",
    "for i in range(1, int(nombre/2+1)):\n",
    "    if nombre % i == 0:\n",
    "        print(i)\n",
    "print (nombre)"
   ]
  }
 ],
 "metadata": {
  "kernelspec": {
   "display_name": "Python 3",
   "language": "python",
   "name": "python3"
  },
  "language_info": {
   "codemirror_mode": {
    "name": "ipython",
    "version": 3
   },
   "file_extension": ".py",
   "mimetype": "text/x-python",
   "name": "python",
   "nbconvert_exporter": "python",
   "pygments_lexer": "ipython3",
   "version": "3.6.5"
  }
 },
 "nbformat": 4,
 "nbformat_minor": 2
}
