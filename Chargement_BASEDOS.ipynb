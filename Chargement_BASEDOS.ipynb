{
 "cells": [
  {
   "cell_type": "code",
   "execution_count": 20,
   "metadata": {
    "collapsed": true
   },
   "outputs": [],
   "source": [
    "from pyspark.sql.functions import split,lit,rtrim,col,trim"
   ]
  },
  {
   "cell_type": "code",
   "execution_count": 3,
   "metadata": {
    "collapsed": true
   },
   "outputs": [],
   "source": [
    "basedos_header = spark.read.text('hdfs:///data/HEADERS/BASEDOS_HEADER.csv').collect()[0][0].split(';')"
   ]
  },
  {
   "cell_type": "code",
   "execution_count": 4,
   "metadata": {},
   "outputs": [
    {
     "name": "stdout",
     "output_type": "stream",
     "text": [
      "['TDPRNFOY', 'TDPRNCONT', 'TDPRNCARTE', 'TDPRNDT', 'TDPRMMENS', 'TDPRMSREC', 'TDPRMCRD']\n"
     ]
    }
   ],
   "source": [
    "print(basedos_header)"
   ]
  },
  {
   "cell_type": "code",
   "execution_count": 5,
   "metadata": {
    "collapsed": true
   },
   "outputs": [],
   "source": [
    "file_date='201801'"
   ]
  },
  {
   "cell_type": "code",
   "execution_count": 6,
   "metadata": {
    "collapsed": true
   },
   "outputs": [],
   "source": [
    "basedos_0 = (spark.read.load('hdfs:///data/BASEDOS/BASEDOS.'+file_date+'.csv.bz2',\n",
    "                                       format ='com.databricks.spark.csv',\n",
    "                                       header='false',\n",
    "                                       quote ='\\\\',\n",
    "                                       delimiter = ';',\n",
    "                                       inferSchema='true'))"
   ]
  },
  {
   "cell_type": "code",
   "execution_count": 8,
   "metadata": {},
   "outputs": [],
   "source": [
    "basedos_2=basedos_0\n",
    "for ncol in range(len(basedos_header)):\n",
    "    basedos_2=basedos_2.withColumn(basedos_header[ncol],trim(basedos_2[basedos_2.columns[ncol]])).drop(basedos_0.columns[ncol])"
   ]
  },
  {
   "cell_type": "code",
   "execution_count": 9,
   "metadata": {
    "collapsed": true
   },
   "outputs": [],
   "source": [
    "basedos_3=basedos_2.withColumn('DATE_CHARGEMENT',lit(file_date))"
   ]
  },
  {
   "cell_type": "code",
   "execution_count": 10,
   "metadata": {
    "scrolled": true
   },
   "outputs": [
    {
     "name": "stdout",
     "output_type": "stream",
     "text": [
      "+----------+---------+----------+-------+---------+---------+--------+---------------+\n",
      "|  TDPRNFOY|TDPRNCONT|TDPRNCARTE|TDPRNDT|TDPRMMENS|TDPRMSREC|TDPRMCRD|DATE_CHARGEMENT|\n",
      "+----------+---------+----------+-------+---------+---------+--------+---------------+\n",
      "|4100000238|        1|     11000| 284049|        1|   284049|  284049|         201801|\n",
      "|4100000345|        1|      8286|      0|        1|        0|       0|         201801|\n",
      "|4100000386|        0|     27662|      0|        0|        0|       0|         201801|\n",
      "|4100000550|        1|      2333|      0|        1|        0|       0|         201801|\n",
      "|4100001103|        1|      9500| 400000|        1|   400000|  400000|         201801|\n",
      "+----------+---------+----------+-------+---------+---------+--------+---------------+\n",
      "only showing top 5 rows\n",
      "\n"
     ]
    }
   ],
   "source": [
    "basedos_3.show(5)"
   ]
  },
  {
   "cell_type": "code",
   "execution_count": 12,
   "metadata": {},
   "outputs": [
    {
     "data": {
      "text/plain": [
       "[('TDPRNFOY', 'string'),\n",
       " ('TDPRNCONT', 'string'),\n",
       " ('TDPRNCARTE', 'string'),\n",
       " ('TDPRNDT', 'string'),\n",
       " ('TDPRMMENS', 'string'),\n",
       " ('TDPRMSREC', 'string'),\n",
       " ('TDPRMCRD', 'string'),\n",
       " ('DATE_CHARGEMENT', 'string')]"
      ]
     },
     "execution_count": 12,
     "metadata": {},
     "output_type": "execute_result"
    }
   ],
   "source": [
    "basedos_3.dtypes"
   ]
  },
  {
   "cell_type": "code",
   "execution_count": 13,
   "metadata": {},
   "outputs": [
    {
     "data": {
      "text/plain": [
       "DataFrame[]"
      ]
     },
     "execution_count": 13,
     "metadata": {},
     "output_type": "execute_result"
    }
   ],
   "source": [
    "requete=\"\"\"\n",
    "create external table if not exists default.basedos\n",
    "(\n",
    "TDPRNFOY string,\n",
    "TDPRNCONT int,\n",
    "TDPRNCARTE int,\n",
    "TDPRNDT int,\n",
    "TDPRMMENS int,\n",
    "TDPRMSREC int,\n",
    "TDPRMCRD int\n",
    ")\n",
    "partitioned by (DATE_CHARGEMENT int)\n",
    "stored as parquet\n",
    "\n",
    "location 'hdfs:///tmp/BASEDOS'\n",
    "\"\"\"\n",
    "spark.sql(requete)"
   ]
  },
  {
   "cell_type": "code",
   "execution_count": 23,
   "metadata": {
    "collapsed": true
   },
   "outputs": [],
   "source": [
    "def load_basedos(file_date):\n",
    "    basedos_batch = (spark.read.load('hdfs:///data/BASEDOS/BASEDOS.'+file_date+'.csv.bz2',\n",
    "                                       format ='com.databricks.spark.csv',\n",
    "                                       header='false',\n",
    "                                       quote ='\\\\',\n",
    "                                       delimiter = ';',\n",
    "                                       inferSchema='true'))      \n",
    "    oldCols=basedos_batch.columns\n",
    "    for ncol in range(len(basedos_header)):\n",
    "        basedos_batch=basedos_batch.withColumn(basedos_header[ncol],trim(basedos_batch[oldCols[ncol]])).drop(oldCols[ncol])\n",
    "\n",
    "    basedos_batch.createOrReplaceTempView('tmpTable')\n",
    "\n",
    "    requete=\"\"\"\n",
    "    insert overwrite table default.basedos partition (DATE_CHARGEMENT=\"\"\" + file_date +\"\"\")\n",
    "    (\n",
    "    select *\n",
    "    from tmpTable\n",
    "    )\n",
    "    \"\"\"\n",
    "    spark.sql(requete) \n",
    "    print('%s done'%file_date)"
   ]
  },
  {
   "cell_type": "code",
   "execution_count": 17,
   "metadata": {
    "collapsed": true
   },
   "outputs": [],
   "source": [
    "import os\n",
    "res=os.popen('hdfs dfs -ls hdfs:///data/BASEDOS/BASEDOS*').read()"
   ]
  },
  {
   "cell_type": "code",
   "execution_count": 18,
   "metadata": {
    "collapsed": true
   },
   "outputs": [],
   "source": [
    "import re\n",
    "res2 = re.findall('BASEDOS\\.([0-9]+)',res)"
   ]
  },
  {
   "cell_type": "code",
   "execution_count": 21,
   "metadata": {},
   "outputs": [
    {
     "name": "stdout",
     "output_type": "stream",
     "text": [
      "201712 done\n",
      "201801 done\n",
      "201803 done\n",
      "201804 done\n",
      "201805 done\n"
     ]
    }
   ],
   "source": [
    "for file_date in res2:\n",
    "    load_basedos(file_date)"
   ]
  },
  {
   "cell_type": "code",
   "execution_count": null,
   "metadata": {
    "collapsed": true
   },
   "outputs": [],
   "source": [
    "spark.sql(\"analyze table default.basedos compute statistics noscan\")"
   ]
  },
  {
   "cell_type": "code",
   "execution_count": null,
   "metadata": {
    "collapsed": true
   },
   "outputs": [],
   "source": [
    "%%bash\n",
    "hdfs dfs -ls /tmp"
   ]
  },
  {
   "cell_type": "code",
   "execution_count": null,
   "metadata": {
    "collapsed": true
   },
   "outputs": [],
   "source": []
  },
  {
   "cell_type": "code",
   "execution_count": null,
   "metadata": {
    "collapsed": true
   },
   "outputs": [],
   "source": []
  }
 ],
 "metadata": {
  "kernelspec": {
   "display_name": "Spark 2",
   "language": "python",
   "name": "pyspark"
  },
  "language_info": {
   "codemirror_mode": {
    "name": "ipython",
    "version": 3
   },
   "file_extension": ".py",
   "mimetype": "text/x-python",
   "name": "python",
   "nbconvert_exporter": "python",
   "pygments_lexer": "ipython3",
   "version": "3.6.1"
  }
 },
 "nbformat": 4,
 "nbformat_minor": 2
}
